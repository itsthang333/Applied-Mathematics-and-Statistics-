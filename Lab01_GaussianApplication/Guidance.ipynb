{
  "cells": [
    {
      "cell_type": "markdown",
      "metadata": {
        "id": "EL7NnqRvu_kA"
      },
      "source": [
        "# <center>Vector và Hệ phương trình tuyến tính trong Python</center>"
      ]
    },
    {
      "cell_type": "markdown",
      "metadata": {
        "id": "XYcaABSpu_kD"
      },
      "source": [
        "## Mục lục\n",
        "\n",
        "* [Python và các thư viện tính toán khoa học](#c2)\n",
        "* [Vector trong Python](#c3)\n",
        "* [Ma trận (cơ bản) trong Python](#c4)\n",
        "* [Hệ phương trình tuyến tính và Phép khử Gauss trong Python](#c5)"
      ]
    },
    {
      "cell_type": "markdown",
      "metadata": {
        "id": "pS8Qzxr7u_kE"
      },
      "source": [
        "## Python và các thư viện tính toán khoa học <a class=\"anchor\" id=\"c2\"></a>"
      ]
    },
    {
      "cell_type": "markdown",
      "metadata": {
        "id": "uhzQfOdJu_kE"
      },
      "source": [
        "[Python](https://www.python.org/) là ngôn ngữ lập trình được dùng phổ biến cho tính toán khoa học (và nhiều mục đích khác). Tài liệu tra cứu chính thống của Python được để ở [Python documentation](https://docs.python.org/3/index.html). Có thể dùng hướng dẫn [The Python Tutorial](https://docs.python.org/3/tutorial/) để học nhanh Python. Có thể dùng sách [Bí kíp luyện Lập trình nhập môn với Python (hBook)](https://github.com/vqhBook/python) để học kĩ Python căn bản. Ngoài ra, có thể dùng một số nguồn tham khảo khác như [Python3 Tutorial](https://www.python-course.eu/python3_course.php), [Numerical Programming with Python](https://www.python-course.eu/numerical_programming_with_python.php), [GeeksforGeeks](https://www.geeksforgeeks.org/python-programming-language/)..."
      ]
    },
    {
      "cell_type": "markdown",
      "metadata": {
        "id": "JDhFga3ju_kF"
      },
      "source": [
        "Các thư viện Python phổ biến dùng trong tính toán khoa học là: [NumPy](https://numpy.org/), [SciPy](https://www.scipy.org/), [SymPy](https://www.sympy.org/en/index.html), [pandas](https://pandas.pydata.org/), [scikit-learn](https://scikit-learn.org/stable/), [Matplotlib](https://matplotlib.org/)... Các thư viện này sẽ được giới thiệu, hướng dẫn và dùng trong các buổi Lab, đồ án."
      ]
    },
    {
      "cell_type": "markdown",
      "metadata": {
        "id": "4Jt6RCQ4u_kF"
      },
      "source": [
        "NumPy và SciPy là các thư viện **tính toán số** (numeric computation) giúp tính xấp xỉ nhưng hiệu quả với khối lượng tính toán lớn. Có thể học nhanh NumPy tại [NumPy - the absolute basics for beginners](https://numpy.org/doc/stable/user/absolute_beginners.html)."
      ]
    },
    {
      "cell_type": "markdown",
      "metadata": {
        "id": "I00EXf3ju_kG"
      },
      "source": [
        "SymPy là thư viện **tính toán ký hiệu** (symbolic computation) giúp tính chính xác và hình thức với khối lượng tính toán nhỏ. Có thể học nhanh SymPy tại [SymPy Introduction](https://docs.sympy.org/latest/tutorial/intro.html) và [SymPy Matrices](https://docs.sympy.org/latest/tutorial/matrices.html)."
      ]
    },
    {
      "cell_type": "markdown",
      "metadata": {
        "id": "4Ir4m3QQu_kG"
      },
      "source": [
        "Tra cứu các hỗ trợ cho **đại số tuyến tính** (linear algebra) tại:\n",
        "\n",
        "* [Linear algebra (numpy.linalg)](https://numpy.org/doc/stable/reference/routines.linalg.html#)\n",
        "\n",
        "* [Linear algebra (scipy.linalg)](https://docs.scipy.org/doc/scipy/reference/linalg.html#module-scipy.linalg)\n",
        "\n",
        "* [SymPy Matrices (linear algebra)](https://docs.sympy.org/latest/modules/matrices/matrices.html)"
      ]
    },
    {
      "cell_type": "markdown",
      "metadata": {
        "id": "XJuDhSctu_kG"
      },
      "source": [
        "Một số thư viện có dùng trong bài lab này:\n",
        "\n",
        "* Module [`math`](https://docs.python.org/3/library/math.html) trong thư viện chuẩn Python hỗ trợ các hàm Toán thông dụng.\n",
        "\n",
        "* Lớp [`fractions.Fraction`](https://docs.python.org/3/library/fractions.html) trong thư viện chuẩn Python hỗ trợ kiểu phân số dùng để tính toán chính xác.\n",
        "\n",
        "* Các thư viện `numpy`, `scipy`, `sympy`.\n",
        "\n",
        "* Ngoài ra, hàm `to_fraction` giúp tạo phân số (từ chuỗi, số nguyên, danh sách các số...) khi muốn tính toán chính xác và hàm `myprint` giúp \"xuất đẹp\" các danh sách (vector, tập vector, ma trận)."
      ]
    },
    {
      "cell_type": "code",
      "execution_count": 1,
      "metadata": {
        "id": "MbhPvjBNu_kH",
        "scrolled": true
      },
      "outputs": [
        {
          "name": "stdout",
          "output_type": "stream",
          "text": [
            "[Fraction(1, 2), Fraction(2, 3)]\n",
            "[[1 2]\n",
            " [3 4]]\n"
          ]
        }
      ],
      "source": [
        "import math\n",
        "from fractions import Fraction\n",
        "import numpy as np\n",
        "import scipy.linalg\n",
        "import sympy\n",
        "from sympy import Matrix\n",
        "\n",
        "sympy.init_printing()\n",
        "\n",
        "# Helper functions\n",
        "x = [\"1/2\", \"2/3\"]\n",
        "def to_fraction(x):\n",
        "    if isinstance(x, list):\n",
        "        return [to_fraction(e) for e in x] # list comprehension\n",
        "    else:\n",
        "        return Fraction(x) # \"1/2\" --> 1/2\n",
        "\n",
        "\n",
        "    # # Another way to implement this function, without using list comprehension.\n",
        "    # #     It is a little bit longer!!!\n",
        "    # if not isinstance(x, list):\n",
        "    #     return Fraction(x)\n",
        "\n",
        "    # res = []\n",
        "    # n = len(x)\n",
        "    # for i in range(n): # for (i = 0; i < n; i++)\n",
        "    #     res.append(to_fraction(x[i]))\n",
        "\n",
        "    # return res\n",
        "print(to_fraction(x))\n",
        "\n",
        "y = [[1,2],[3,4]]\n",
        "\n",
        "def myprint(x, sep=\" \"):\n",
        "    if isinstance(x, list) and x:\n",
        "        if isinstance(x[0], list): # list of list\n",
        "            m, n = len(x), len(x[0])\n",
        "            widths = [max(len(str(ai[j])) for ai in x) for j in range(n)]\n",
        "            rows = [sep.join(format(str(ai[j]), f\">{widths[j]}\") for j in range(n)) for ai in x]\n",
        "            print(\"[\" + \"\\n\".join((\" [\" if i > 0 else \"[\") + rows[i] + \"]\" for i in range(m)) + \"]\")\n",
        "        else: # list\n",
        "            print(\"[\" + sep.join(str(e) for e in x) + \"]\")\n",
        "    else:\n",
        "        print(x)\n",
        "\n",
        "myprint(y)"
      ]
    },
    {
      "cell_type": "markdown",
      "metadata": {
        "id": "lIkK-5NEu_kI"
      },
      "source": [
        "## Vector trong Python <a class=\"anchor\" id=\"c3\"></a>"
      ]
    },
    {
      "cell_type": "markdown",
      "metadata": {
        "id": "4CqiUr3-u_kI"
      },
      "source": [
        "Một bộ gồm $n$ số thực (n-tuple) $\\boldsymbol{v} = (v_1, v_2, ..., v_n) \\in \\mathbb{R}^n$ được gọi là một **vector** kích thước $n$. Các số $v_1, v_2, ..., v_n \\in \\mathbb{R}$ được gọi là các **phần tử** (element, entry) của vector. Để phân biệt với vector, các số thực còn được gọi là **vô hướng** (scalar)."
      ]
    },
    {
      "cell_type": "markdown",
      "metadata": {
        "id": "2-VogexAu_kI"
      },
      "source": [
        "Cách đơn giản nhất để biểu diễn vector là dùng **danh sách** (list) các số. Cách hiệu quả và tiện lợi hơn là dùng **NumPy 1D array**."
      ]
    },
    {
      "cell_type": "markdown",
      "metadata": {
        "id": "L5Q7WKfWu_kJ"
      },
      "source": [
        "### Khai báo"
      ]
    },
    {
      "cell_type": "code",
      "execution_count": 2,
      "metadata": {
        "id": "OxsRCySJu_kJ",
        "outputId": "75d1e229-5a12-4865-f82d-cd5d49c371bd"
      },
      "outputs": [
        {
          "name": "stdout",
          "output_type": "stream",
          "text": [
            "Use list:  [1, 2, 3, 4, 5]\n",
            "Use NumPy:  [1 2 3 4 5]\n",
            "The first element in vector (list):  1\n",
            "The last element in vector (NumPy):  5\n",
            "Subvector (3 first elements) in vector (list):  [1, 2, 3]\n",
            "Subvector (3 last elements) in vector (NumPy):  [3 4 5]\n"
          ]
        }
      ],
      "source": [
        "# Init\n",
        "v_list = [1, 2, 3, 4, 5]            # Uses list\n",
        "v_numpy = np.array([1, 2, 3, 4, 5]) # Uses NumPy\n",
        "\n",
        "# Display the values\n",
        "print('Use list: ', v_list)\n",
        "print('Use NumPy: ', v_numpy)\n",
        "\n",
        "# Access elements (basic)\n",
        "print('The first element in vector (list): ', v_list[0])\n",
        "print('The last element in vector (NumPy): ', v_numpy[-1])\n",
        "\n",
        "print('Subvector (3 first elements) in vector (list): ', v_list[:3])    # Quick questions: Other ways? What items should come before the colon?\n",
        "print('Subvector (3 last elements) in vector (NumPy): ', v_numpy[-3:])  # Quick questions: Other ways? What items should come after the colon?"
      ]
    },
    {
      "cell_type": "markdown",
      "metadata": {
        "id": "nKx68Q29u_kK"
      },
      "source": [
        "Tùy trường hợp, vector $\\boldsymbol{v} = (v_1, v_2, ..., v_n) \\in \\mathbb{R}^n$ có thể được biểu diễn như là **vector dòng** (row vector) hay **vector cột** (column vector)\n",
        "$$\n",
        "\\boldsymbol{v} =\n",
        "\\begin{bmatrix}\n",
        "v_1 & v_2 & \\cdots & v_n\n",
        "\\end{bmatrix} \\in \\mathbb{R}^{1 \\times n},\n",
        "$$\n",
        "$$\n",
        "\\boldsymbol{v} =\n",
        "\\begin{bmatrix}\n",
        "v_1 \\\\ v_2 \\\\ \\vdots \\\\ v_n\n",
        "\\end{bmatrix} \\in \\mathbb{R}^{n \\times 1}.\n",
        "$$"
      ]
    },
    {
      "cell_type": "code",
      "execution_count": 3,
      "metadata": {
        "id": "3HUyfcatu_kK",
        "outputId": "470b9f1c-ba34-46a9-e6ef-920561f95f76",
        "scrolled": true
      },
      "outputs": [
        {
          "data": {
            "text/latex": [
              "$\\displaystyle \\left( 5,\\right)$"
            ],
            "text/plain": [
              "(5,)"
            ]
          },
          "execution_count": 3,
          "metadata": {},
          "output_type": "execute_result"
        }
      ],
      "source": [
        "v_numpy.shape # print(v_numpy.shape)"
      ]
    },
    {
      "cell_type": "code",
      "execution_count": 4,
      "metadata": {
        "id": "RqFoFSc3u_kK",
        "outputId": "b2c0e9ab-b374-4f1c-a236-a944349751a0",
        "scrolled": false
      },
      "outputs": [
        {
          "name": "stdout",
          "output_type": "stream",
          "text": [
            "Row vector: \n",
            " [[1 2 3 4 5]] \n",
            "Shape:  (1, 5)\n",
            "\n",
            "Column vector: \n",
            " [[1]\n",
            " [2]\n",
            " [3]\n",
            " [4]\n",
            " [5]] \n",
            "Shape:  (5, 1)\n"
          ]
        }
      ],
      "source": [
        "# Uses NumPy\n",
        "v_row = v_numpy.reshape(1, len(v_numpy))\n",
        "v_col = v_numpy.reshape(len(v_numpy), 1)\n",
        "\n",
        "print('Row vector: \\n', v_row, '\\nShape: ', v_row.shape)\n",
        "print('\\nColumn vector: \\n', v_col, '\\nShape: ', v_col.shape)"
      ]
    },
    {
      "cell_type": "code",
      "execution_count": 5,
      "metadata": {
        "id": "BMg7rP34u_kK",
        "outputId": "86002bc3-1196-4cf7-ddd2-b6eca6308aeb",
        "scrolled": true
      },
      "outputs": [
        {
          "data": {
            "text/latex": [
              "$\\displaystyle \\left[\\begin{matrix}1\\\\2\\\\3\\\\4\\\\5\\end{matrix}\\right]$"
            ],
            "text/plain": [
              "⎡1⎤\n",
              "⎢ ⎥\n",
              "⎢2⎥\n",
              "⎢ ⎥\n",
              "⎢3⎥\n",
              "⎢ ⎥\n",
              "⎢4⎥\n",
              "⎢ ⎥\n",
              "⎣5⎦"
            ]
          },
          "execution_count": 5,
          "metadata": {},
          "output_type": "execute_result"
        }
      ],
      "source": [
        "# Uses SymPy\n",
        "Matrix([1, 2, 3, 4, 5]) # SymPy treats a vector as a column vector, which is a matrix with only 1 column"
      ]
    },
    {
      "cell_type": "markdown",
      "metadata": {
        "id": "cXRFR8nNu_kK"
      },
      "source": [
        "### Vector không (zero vector)"
      ]
    },
    {
      "cell_type": "markdown",
      "metadata": {
        "id": "9rrlxtMtu_kK"
      },
      "source": [
        "Vector $\\boldsymbol{0} = (0, 0, ..., 0) \\in \\mathbb{R}^n$ được gọi là **vector không** (zero vector)."
      ]
    },
    {
      "cell_type": "markdown",
      "metadata": {
        "id": "Ix3aUHfnu_kL"
      },
      "source": [
        "2 vector $\\boldsymbol{v} = (v_1, v_2, ..., v_n), \\boldsymbol{w} = (w_1, w_2, ..., w_n) \\in \\mathbb{R}^n$ được gọi là **bằng nhau** (equal), kí hiệu $\\boldsymbol{v} = \\boldsymbol{w}$ nếu $v_i = w_i, \\forall i$."
      ]
    },
    {
      "cell_type": "markdown",
      "metadata": {
        "id": "DUfUQ9rZu_kL"
      },
      "source": [
        "#### Sử dụng list"
      ]
    },
    {
      "cell_type": "code",
      "execution_count": 6,
      "metadata": {
        "id": "iYd0DGl_u_kL"
      },
      "outputs": [],
      "source": [
        "# Define functions\n",
        "def is_zero(x):\n",
        "    # Check if a real number x is equal to 0 (or is very close to 0)\n",
        "    return math.isclose(x, 0, abs_tol=1e-09)\n",
        "    # |a - b| <= 0.00000000001 --> a ~ b\n",
        "\n",
        "def create_zero_vector(n):\n",
        "    return [0] * n\n",
        "    # return [0 for _ in range(n)]\n",
        "\n",
        "def is_zero_vector(v):\n",
        "    return all(is_zero(vi) for vi in v)\n",
        "    # If we ignore is_zero function, we can use this code:\n",
        "    # return v == [0]*len(v)"
      ]
    },
    {
      "cell_type": "code",
      "execution_count": 7,
      "metadata": {
        "id": "eBQV_f6Ku_kL",
        "outputId": "7dda4298-078d-45f2-e019-8f971bb20a4d",
        "scrolled": true
      },
      "outputs": [
        {
          "name": "stdout",
          "output_type": "stream",
          "text": [
            "[0, 0, 0]\n",
            "Is zero vector:  True\n"
          ]
        }
      ],
      "source": [
        "v = create_zero_vector(3)\n",
        "\n",
        "# Show value\n",
        "print(v)\n",
        "\n",
        "# Check if v is a zero vector\n",
        "print('Is zero vector: ', is_zero_vector(v))"
      ]
    },
    {
      "cell_type": "markdown",
      "metadata": {
        "id": "966ayOV7u_kL"
      },
      "source": [
        "##### TODO: Tìm hiểu thêm"
      ]
    },
    {
      "cell_type": "code",
      "execution_count": 8,
      "metadata": {
        "id": "teJV7sIyu_kL"
      },
      "outputs": [],
      "source": [
        "# What is the output when we call: v == 0?\n",
        "# What is the output when we call: v == create_zero_vector(3)?\n",
        "# Give explanations"
      ]
    },
    {
      "cell_type": "markdown",
      "metadata": {
        "id": "fkGgR7hau_kM"
      },
      "source": [
        "#### Sử dụng NumPy"
      ]
    },
    {
      "cell_type": "code",
      "execution_count": 9,
      "metadata": {
        "id": "_qYpc_Qcu_kM",
        "outputId": "41d4b68d-94f4-4c46-8f9b-f0a4d5917801",
        "scrolled": false
      },
      "outputs": [
        {
          "name": "stdout",
          "output_type": "stream",
          "text": [
            "[0. 0. 0.]\n",
            "Is zero vector (using built-in function),  True\n",
            "Is zero vector (using our implemented function):  True\n"
          ]
        }
      ],
      "source": [
        "v = np.zeros(3)\n",
        "\n",
        "# Show value\n",
        "print(v)\n",
        "\n",
        "# Check if v is a zero vector\n",
        "print('Is zero vector (using built-in function), ', all(v == 0))                # Quick question: What does this code mean: \"all(v == 0)\"?\n",
        "print('Is zero vector (using our implemented function): ', is_zero_vector(v))"
      ]
    },
    {
      "cell_type": "markdown",
      "metadata": {
        "id": "WDQi1jcTu_kM"
      },
      "source": [
        "#### Sử dụng SymPy"
      ]
    },
    {
      "cell_type": "code",
      "execution_count": 10,
      "metadata": {
        "id": "UE5UhMS_u_kM"
      },
      "outputs": [
        {
          "name": "stdout",
          "output_type": "stream",
          "text": [
            "0\n",
            "None\n"
          ]
        }
      ],
      "source": [
        "# TODO: Create a zero vector using SymPy\n",
        "from sympy.vector import Vector\n",
        "v = Vector.zero\n",
        "print(v)\n",
        "\n",
        "\n",
        "# TODO: Check if a vector is a zero vector using SymPy\n",
        "is_zero_vector1 = v.is_zero\n",
        "print(is_zero_vector1)"
      ]
    },
    {
      "cell_type": "markdown",
      "metadata": {
        "id": "hLsimCFZu_kM"
      },
      "source": [
        "### Các phép toán trong Vector"
      ]
    },
    {
      "cell_type": "markdown",
      "metadata": {
        "id": "LS_HVl5Tu_kM"
      },
      "source": [
        "Cho 2 vector $\\boldsymbol{v} = (v_1, v_2, ..., v_n), \\boldsymbol{w} = (w_1, w_2, ..., w_n) \\in \\mathbb{R}^n$ và số thực $\\alpha \\in \\mathbb{R}$, ta định nghĩa các phép toán\n",
        "$$\n",
        "\\boldsymbol{v} + \\boldsymbol{w} = (v_1 + w_1, v_2 + w_2, ..., v_n + w_n),\n",
        "$$\n",
        "$$\n",
        "\\boldsymbol{v} - \\boldsymbol{w} = (v_1 - w_1, v_2 - w_2, ..., v_n - w_n),\n",
        "$$\n",
        "$$\n",
        "\\alpha \\boldsymbol{v} = (\\alpha v_1, \\alpha v_2, ..., \\alpha v_n).\n",
        "$$"
      ]
    },
    {
      "cell_type": "markdown",
      "metadata": {
        "id": "4JxrnYR_u_kN"
      },
      "source": [
        "Cho tập các vector $\\boldsymbol{v}_1, \\boldsymbol{v}_2, ..., \\boldsymbol{v}_k \\in \\mathbb{R}^n$ và các số $\\alpha_1, \\alpha_2, ..., \\alpha_k \\in \\mathbb{R}$, ta nói vector\n",
        "$$\n",
        "\\boldsymbol{w} = \\alpha_1 \\boldsymbol{v}_1 + \\alpha_2 \\boldsymbol{v}_2 + ... + \\alpha_k \\boldsymbol{v}_k\n",
        "$$\n",
        "\n",
        "là một **tổ hợp tuyến tính** (linear combination) của $\\boldsymbol{v}_1, \\boldsymbol{v}_2, ..., \\boldsymbol{v}_k$ với các **hệ số** (coefficient) $\\alpha_1, \\alpha_2, ..., \\alpha_k$."
      ]
    },
    {
      "cell_type": "markdown",
      "metadata": {
        "id": "ksaIqiv1u_kN"
      },
      "source": [
        "#### Sử dụng List"
      ]
    },
    {
      "cell_type": "code",
      "execution_count": 11,
      "metadata": {
        "id": "3s1GvelFu_kN"
      },
      "outputs": [],
      "source": [
        "# Define functions\n",
        "def add_vector(v, w):\n",
        "    return [vi + wi for vi, wi in zip(v, w)]\n",
        "\n",
        "def sub_vector(v, w):\n",
        "    return [vi - wi for vi, wi in zip(v, w)]\n",
        "\n",
        "def mul_scalar_vector(alpha, v):\n",
        "    return [alpha*vi for vi in v]\n",
        "\n",
        "def equal_vector(v, w):\n",
        "    return is_zero_vector(sub_vector(v, w)) # 2 vectors are equal if their difference is the zero vector"
      ]
    },
    {
      "cell_type": "code",
      "execution_count": 12,
      "metadata": {
        "id": "f6_Msp08u_kN",
        "outputId": "5a94c404-951f-4df3-8b3d-2846ed447bd6",
        "scrolled": false
      },
      "outputs": [
        {
          "name": "stdout",
          "output_type": "stream",
          "text": [
            "Sum of 2 vectors:  [5, -1, 3]\n",
            "Subtraction of 2 vectors:  [-3, -5, 1]\n",
            "Multiplication of vector with scalar (alpha = 2):  [2, -6, 4]\n",
            "Is (v - w) == (v + (-1w))?:  True\n"
          ]
        }
      ],
      "source": [
        "v = [1, -3, 2]\n",
        "w = [4, 2, 1]\n",
        "\n",
        "print('Sum of 2 vectors: ', add_vector(v, w))\n",
        "print('Subtraction of 2 vectors: ', sub_vector(v, w))\n",
        "print('Multiplication of vector with scalar (alpha = 2): ', mul_scalar_vector(2, v))\n",
        "print('Is (v - w) == (v + (-1w))?: ', equal_vector(sub_vector(v, w), add_vector(v, mul_scalar_vector(-1, w))))"
      ]
    },
    {
      "cell_type": "markdown",
      "metadata": {
        "id": "O821pJEju_kN"
      },
      "source": [
        "#### Sử dụng NumPy"
      ]
    },
    {
      "cell_type": "code",
      "execution_count": 13,
      "metadata": {
        "id": "TyFLNrdpu_kN",
        "outputId": "6d83a683-2eed-4864-b6e1-44defcb96aeb",
        "scrolled": false
      },
      "outputs": [
        {
          "name": "stdout",
          "output_type": "stream",
          "text": [
            "Sum of 2 vectors:  [ 5 -1  3]\n",
            "Subtraction of 2 vectors:  [-3 -5  1]\n",
            "Multiplication of vector with scalar (alpha = 2):  [ 2 -6  4]\n",
            "Is (v - w) == (v + (-1w))?:  True\n"
          ]
        }
      ],
      "source": [
        "v = np.array(v)\n",
        "w = np.array(w)\n",
        "\n",
        "print('Sum of 2 vectors: ', v + w)\n",
        "print('Subtraction of 2 vectors: ', v - w)\n",
        "print('Multiplication of vector with scalar (alpha = 2): ', 2*v)\n",
        "print('Is (v - w) == (v + (-1w))?: ', all((v - w) == (v + (-1*w))))"
      ]
    },
    {
      "cell_type": "markdown",
      "metadata": {
        "id": "wIfU-ELIu_kR"
      },
      "source": [
        "#### Sử dụng SymPy"
      ]
    },
    {
      "cell_type": "code",
      "execution_count": 14,
      "metadata": {
        "id": "UTSv75xyu_kS",
        "outputId": "82101fbc-f54f-40af-c7f9-9617b071ca34",
        "scrolled": true
      },
      "outputs": [
        {
          "name": "stdout",
          "output_type": "stream",
          "text": [
            "Sum of 2 vectors:  Matrix([[5], [-1], [3]])\n",
            "Subtraction of 2 vectors:  Matrix([[-3], [-5], [1]])\n",
            "Multiplication of vector with scalar (alpha = 2):  Matrix([[2], [-6], [4]])\n",
            "Is (v - w) == (v + (-1w))?:  True\n"
          ]
        }
      ],
      "source": [
        "v = Matrix(v)\n",
        "w = Matrix(w)\n",
        "\n",
        "print('Sum of 2 vectors: ', v + w)\n",
        "print('Subtraction of 2 vectors: ', v - w)\n",
        "print('Multiplication of vector with scalar (alpha = 2): ', 2*v)\n",
        "print('Is (v - w) == (v + (-1w))?: ', v - w == v + (-1*w)) # Unlike NumPy, SymPy uses \"==\" operator to compare 2 vectors (matrice)"
      ]
    },
    {
      "cell_type": "markdown",
      "metadata": {
        "id": "-Des1C9fu_kS"
      },
      "source": [
        "##### Tổ hợp tuyến tính"
      ]
    },
    {
      "cell_type": "code",
      "execution_count": 15,
      "metadata": {
        "id": "4RnI_S87u_kS",
        "outputId": "7d137caf-7fad-4022-d3f5-a935534914e8",
        "scrolled": true
      },
      "outputs": [
        {
          "name": "stdout",
          "output_type": "stream",
          "text": [
            "Linear combination:\n"
          ]
        },
        {
          "data": {
            "text/latex": [
              "$\\displaystyle \\left[\\begin{matrix}\\alpha + 4 \\beta\\\\- 3 \\alpha + 2 \\beta\\\\2 \\alpha + \\beta\\end{matrix}\\right]$"
            ],
            "text/plain": [
              "⎡ α + 4⋅β  ⎤\n",
              "⎢          ⎥\n",
              "⎢-3⋅α + 2⋅β⎥\n",
              "⎢          ⎥\n",
              "⎣ 2⋅α + β  ⎦"
            ]
          },
          "execution_count": 15,
          "metadata": {},
          "output_type": "execute_result"
        }
      ],
      "source": [
        "print('Linear combination:')\n",
        "sympy.symbols('alpha')*v + sympy.symbols('beta')*w"
      ]
    },
    {
      "cell_type": "markdown",
      "metadata": {
        "id": "PVlOxNLpu_kS"
      },
      "source": [
        "### Tích vô hướng"
      ]
    },
    {
      "cell_type": "markdown",
      "metadata": {
        "id": "JO-qbA1cu_kS"
      },
      "source": [
        "Cho 2 vector $\\boldsymbol{v} = (v_1, v_2, ..., v_n), \\boldsymbol{w} = (w_1, w_2, ..., w_n) \\in \\mathbb{R}^n$:"
      ]
    },
    {
      "cell_type": "markdown",
      "metadata": {
        "id": "y_mLvVXcu_kS"
      },
      "source": [
        "Ta định nghĩa **tích vô hướng** (inner product, dot product) của $\\boldsymbol{v}, \\boldsymbol{w}$ là\n",
        "$$\n",
        "\\langle \\boldsymbol{v}, \\boldsymbol{w} \\rangle = v_1w_1 + v_2w_2 + ... + v_n w_n = \\sum_{i=1}^n v_i w_i,\n",
        "$$"
      ]
    },
    {
      "cell_type": "code",
      "execution_count": 16,
      "metadata": {
        "id": "-do_2BSgu_kT"
      },
      "outputs": [],
      "source": [
        "def calc_inner_product(v, w):\n",
        "    return sum(vi*wi for vi, wi in zip(v, w)) # Quick question: What is \"zip\" function? -> https://docs.python.org/3.10/library/functions.html#zip"
      ]
    },
    {
      "cell_type": "code",
      "execution_count": 17,
      "metadata": {
        "id": "PgP14bhru_kT",
        "outputId": "9a45d3b2-68eb-41ef-d07a-5241cfa780eb",
        "scrolled": true
      },
      "outputs": [
        {
          "name": "stdout",
          "output_type": "stream",
          "text": [
            "Inner product of 2 vectors:  20\n"
          ]
        }
      ],
      "source": [
        "v = [1, 2, 3]\n",
        "w = [4, 5, 2]\n",
        "\n",
        "print('Inner product of 2 vectors: ', calc_inner_product(v, w))"
      ]
    },
    {
      "cell_type": "markdown",
      "metadata": {
        "id": "85EzQl8Du_kT"
      },
      "source": [
        "### Trực giao"
      ]
    },
    {
      "cell_type": "markdown",
      "metadata": {
        "id": "6kDCFQVNu_kT"
      },
      "source": [
        "Ta nói $\\boldsymbol{v}, \\boldsymbol{w}$ **trực giao** (orthogonal, perpendicular), kí hiệu $\\boldsymbol{v} \\bot \\boldsymbol{w}$, nếu $\\langle \\boldsymbol{v}, \\boldsymbol{w} \\rangle = 0$,"
      ]
    },
    {
      "cell_type": "code",
      "execution_count": 18,
      "metadata": {
        "id": "03Fn_2Rwu_kT"
      },
      "outputs": [],
      "source": [
        "def is_orthogonal(v, w):\n",
        "    return is_zero(calc_inner_product(v, w))"
      ]
    },
    {
      "cell_type": "code",
      "execution_count": 19,
      "metadata": {
        "id": "q-NVmZwqu_kT",
        "outputId": "18c705fd-8a1c-4667-8133-574b6f160a68",
        "scrolled": true
      },
      "outputs": [
        {
          "name": "stdout",
          "output_type": "stream",
          "text": [
            "Are [1, -2, 3] and [4, 5, 2] orthogonal:  True\n"
          ]
        }
      ],
      "source": [
        "v = [1, -2, 3]\n",
        "w = [4, 5, 2]\n",
        "\n",
        "print(f'Are {v} and {w} orthogonal: ', is_orthogonal(v, w))"
      ]
    },
    {
      "cell_type": "markdown",
      "metadata": {
        "id": "D5Miada1u_kT"
      },
      "source": [
        "### Chuẩn"
      ]
    },
    {
      "cell_type": "markdown",
      "metadata": {
        "id": "mWtDgScxu_kU"
      },
      "source": [
        "Ta định nghĩa **chuẩn** (norm, length, magnitude) của $\\boldsymbol{v}$ là\n",
        "$$\n",
        "\\| \\boldsymbol{v} \\| = \\sqrt{\\langle \\boldsymbol{v}, \\boldsymbol{v} \\rangle} = \\sqrt{v_1^2 + v_2^2 + ... + v_n^2} = \\sqrt{\\sum_{i=1}^n v_i^2},\n",
        "$$"
      ]
    },
    {
      "cell_type": "code",
      "execution_count": 20,
      "metadata": {
        "id": "jIVCcXAWu_kU"
      },
      "outputs": [],
      "source": [
        "def norm_square(v):\n",
        "    return calc_inner_product(v, v)\n",
        "\n",
        "def norm(v):\n",
        "    return sympy.sqrt(norm_square(v)) # Uses SymPy to get sqrt symbol"
      ]
    },
    {
      "cell_type": "code",
      "execution_count": 21,
      "metadata": {
        "id": "ch0uV5KAu_kU",
        "outputId": "f7d55557-e5d7-4856-c079-edbca81db757",
        "scrolled": true
      },
      "outputs": [
        {
          "name": "stdout",
          "output_type": "stream",
          "text": [
            "Norm of [1, 2, 3]: \n"
          ]
        },
        {
          "data": {
            "text/latex": [
              "$\\displaystyle \\sqrt{14}$"
            ],
            "text/plain": [
              "√14"
            ]
          },
          "execution_count": 21,
          "metadata": {},
          "output_type": "execute_result"
        }
      ],
      "source": [
        "v = [1, 2, 3]\n",
        "\n",
        "print(f'Norm of {v}: ')\n",
        "norm(v)"
      ]
    },
    {
      "cell_type": "markdown",
      "metadata": {
        "id": "uyLbbl7eu_kU"
      },
      "source": [
        "### Vector đơn vị"
      ]
    },
    {
      "cell_type": "markdown",
      "metadata": {
        "id": "qIkOPB7ku_kU"
      },
      "source": [
        "Ta nói $\\boldsymbol{v}$ là **vector đơn vị** (unit vector) nếu $\\| \\boldsymbol{v} \\| = 1$,"
      ]
    },
    {
      "cell_type": "code",
      "execution_count": 22,
      "metadata": {
        "id": "rM5bNEFWu_kU"
      },
      "outputs": [],
      "source": [
        "def is_one(v):\n",
        "    return math.isclose(v, 1)\n",
        "\n",
        "def is_unit_vector(v):\n",
        "    return is_one(norm(v))"
      ]
    },
    {
      "cell_type": "code",
      "execution_count": 23,
      "metadata": {
        "id": "8-euM0QVu_kU",
        "outputId": "53372e65-37e6-49a8-b9f3-7d379298b0b9",
        "scrolled": true
      },
      "outputs": [
        {
          "name": "stdout",
          "output_type": "stream",
          "text": [
            "Is [1, 0, 0] a unit vector:  True\n"
          ]
        }
      ],
      "source": [
        "one = [1, 0, 0]\n",
        "\n",
        "print(f'Is {one} a unit vector: ', is_unit_vector(one))"
      ]
    },
    {
      "cell_type": "markdown",
      "metadata": {
        "id": "zsTQ2alFu_kV"
      },
      "source": [
        "### Khoảng cách"
      ]
    },
    {
      "cell_type": "markdown",
      "metadata": {
        "id": "JHcjkhr2u_kV"
      },
      "source": [
        "Ta định nghĩa **khoảng cách** (distance) giữa $\\boldsymbol{v}$ và $\\boldsymbol{w}$ là $\\| \\boldsymbol{v} - \\boldsymbol{w} \\|$."
      ]
    },
    {
      "cell_type": "code",
      "execution_count": 24,
      "metadata": {
        "id": "_IhGc-Msu_kV"
      },
      "outputs": [],
      "source": [
        "def distance(v, w):\n",
        "    return norm(sub_vector(v, w))"
      ]
    },
    {
      "cell_type": "code",
      "execution_count": 25,
      "metadata": {
        "id": "Dn92PfaAu_kV",
        "outputId": "d8f0f3f8-1b9c-4328-a843-09b1c1989433"
      },
      "outputs": [
        {
          "name": "stdout",
          "output_type": "stream",
          "text": [
            "Distance between [1, -2, 3] and [4, 5, 2]:\n"
          ]
        },
        {
          "data": {
            "text/latex": [
              "$\\displaystyle \\sqrt{59}$"
            ],
            "text/plain": [
              "√59"
            ]
          },
          "execution_count": 25,
          "metadata": {},
          "output_type": "execute_result"
        }
      ],
      "source": [
        "v = [1, -2, 3]\n",
        "w = [4, 5, 2]\n",
        "\n",
        "print(f'Distance between {v} and {w}:')\n",
        "distance(v, w)"
      ]
    },
    {
      "cell_type": "markdown",
      "metadata": {
        "id": "ImO4UstWu_kV"
      },
      "source": [
        "### TODO: Tìm hiểu thêm\n",
        "\n",
        "Tìm hiểu cách sử dụng NumPy và SymPy cho các khái niệm được liệt kê phía trên (từ Trực giao đến Khoảng cách)"
      ]
    },
    {
      "cell_type": "markdown",
      "metadata": {
        "id": "w1K7g8FIu_kV"
      },
      "source": [
        "## Ma trận (cơ bản) trong Python <a class=\"anchor\" id=\"c4\"></a>\n",
        "\n",
        "*(Ma trận sẽ được hướng dẫn kĩ hơn trong Lab 2.)*"
      ]
    },
    {
      "cell_type": "markdown",
      "metadata": {
        "id": "Ujo9iyjru_kV"
      },
      "source": [
        "### Khái niệm"
      ]
    },
    {
      "cell_type": "markdown",
      "metadata": {
        "id": "cvK_yarDu_kW"
      },
      "source": [
        "Một bảng chữ nhật gồm $m$ dòng, $n$ cột các số thực\n",
        "$$\n",
        "A =\n",
        "\\begin{bmatrix}\n",
        "  a_{11} & a_{12} & \\cdots & a_{1n} \\\\\n",
        "  a_{21} & a_{22} & \\cdots & a_{2n} \\\\\n",
        "  \\vdots  & \\vdots  & \\ddots & \\vdots  \\\\\n",
        "  a_{m1} & a_{m2} & \\cdots & a_{mn}\n",
        "\\end{bmatrix} \\in \\mathbb{R}^{m \\times n}\n",
        "$$\n",
        "được gọi là **ma trận** (matrix) có kích thước (hay có dạng) $m \\times n$. Số $a_{ij}$ được gọi là **phần tử** (element, entry) ở dòng $i$, cột $j$ của ma trận $A$."
      ]
    },
    {
      "cell_type": "markdown",
      "metadata": {
        "id": "BlBySDltu_kW"
      },
      "source": [
        "Ma trận $A \\in \\mathbb{R}^{m \\times n}$ có thể xem như gồm $m$ vector dòng $\\mathbb{R}^{1 \\times n}$ với dòng $i$ là\n",
        "$$\n",
        "\\boldsymbol{a}_{i,} =\n",
        "\\begin{bmatrix}\n",
        "  a_{i1} & a_{i2} & \\cdots & a_{in} \\\\\n",
        "\\end{bmatrix},\n",
        "$$\n",
        "hay gồm $n$ vector cột $\\mathbb{R}^{m \\times 1}$ với cột $j$ là\n",
        "$$\n",
        "\\boldsymbol{a}_{,j} =\n",
        "\\begin{bmatrix}\n",
        "  a_{1j} \\\\ a_{2j} \\\\ \\vdots \\\\ a_{mj}\n",
        "\\end{bmatrix}.\n",
        "$$"
      ]
    },
    {
      "cell_type": "markdown",
      "metadata": {
        "id": "WwrtkEQBu_kW"
      },
      "source": [
        "Ta nói ma trận có được từ $A$ bằng cách xếp các dòng thành các cột là ma trận **chuyển vị** (transpose) của $A$, kí hiệu $A^T$, tức là\n",
        "$$\n",
        "A^T =\n",
        "\\begin{bmatrix}\n",
        "  a_{11} & a_{21} & \\cdots & a_{m1} \\\\\n",
        "  a_{12} & a_{22} & \\cdots & a_{m2} \\\\\n",
        "  \\vdots  & \\vdots  & \\ddots & \\vdots  \\\\\n",
        "  a_{1n} & a_{2n} & \\cdots & a_{mn}\n",
        "\\end{bmatrix} \\in \\mathbb{R}^{n \\times m}.\n",
        "$$"
      ]
    },
    {
      "cell_type": "markdown",
      "metadata": {
        "id": "E1tSJUJOu_kW"
      },
      "source": [
        "Cách đơn giản nhất để biểu diễn ma trận là dùng **danh sách lồng** (nested list) các số. Cách hiệu quả và tiện lợi hơn là dùng **NumPy 2D array**."
      ]
    },
    {
      "cell_type": "markdown",
      "metadata": {
        "id": "JTK6k1Alu_kW"
      },
      "source": [
        "### Chuyển vị"
      ]
    },
    {
      "cell_type": "markdown",
      "metadata": {
        "id": "laac-NMiu_kW"
      },
      "source": [
        "#### List"
      ]
    },
    {
      "cell_type": "code",
      "execution_count": 26,
      "metadata": {
        "id": "QozGCg8eu_kW",
        "outputId": "74f26874-6827-4b6c-e674-fbae816b03ec",
        "scrolled": true
      },
      "outputs": [
        {
          "name": "stdout",
          "output_type": "stream",
          "text": [
            "Before transposing:\n",
            "[[1 2 3]\n",
            " [4 5 6]]\n",
            "\n",
            "After transposing:\n",
            "[[1 4]\n",
            " [2 5]\n",
            " [3 6]]\n"
          ]
        }
      ],
      "source": [
        "def transpose(A):\n",
        "    m, n = len(A), len(A[0]) # The size of matrix\n",
        "    return [[A[i][j] for i in range(m)] for j in range(n)]\n",
        "\n",
        "A = [[1, 2, 3],\n",
        "     [4, 5, 6]]\n",
        "\n",
        "print('Before transposing:')\n",
        "myprint(A)\n",
        "\n",
        "print('\\nAfter transposing:')\n",
        "myprint(transpose(A))"
      ]
    },
    {
      "cell_type": "markdown",
      "metadata": {
        "id": "fagsneMnu_kX"
      },
      "source": [
        "#### NumPy"
      ]
    },
    {
      "cell_type": "code",
      "execution_count": 27,
      "metadata": {
        "id": "tPsM-0Y3u_kX",
        "outputId": "931d40b4-f294-4330-b295-a94a2dfd0d17",
        "scrolled": true
      },
      "outputs": [
        {
          "name": "stdout",
          "output_type": "stream",
          "text": [
            "Before transposing:\n",
            "[[1 2 3]\n",
            " [4 5 6]]\n",
            "\n",
            "After transposing:\n",
            "[[1 4]\n",
            " [2 5]\n",
            " [3 6]]\n"
          ]
        }
      ],
      "source": [
        "A = np.array(A)\n",
        "\n",
        "print('Before transposing:')\n",
        "print(A)\n",
        "\n",
        "print('\\nAfter transposing:')\n",
        "print(A.T)"
      ]
    },
    {
      "cell_type": "markdown",
      "metadata": {
        "id": "Dq8tA7jwu_kX"
      },
      "source": [
        "#### SymPy"
      ]
    },
    {
      "cell_type": "code",
      "execution_count": 28,
      "metadata": {
        "id": "Ce8WWes5u_kX",
        "outputId": "9c031896-b6ac-4444-d60c-81beb53cd8da",
        "scrolled": false
      },
      "outputs": [
        {
          "data": {
            "text/latex": [
              "$\\displaystyle \\left[\\begin{matrix}a_{11} & a_{12} & a_{13}\\\\a_{21} & a_{22} & a_{23}\\end{matrix}\\right]$"
            ],
            "text/plain": [
              "⎡a₁₁  a₁₂  a₁₃⎤\n",
              "⎢             ⎥\n",
              "⎣a₂₁  a₂₂  a₂₃⎦"
            ]
          },
          "execution_count": 28,
          "metadata": {},
          "output_type": "execute_result"
        }
      ],
      "source": [
        "A = Matrix([[sympy.symbols(f\"a_{i}{j}\") for j in range(1, 4)] for i in range(1, 3)])\n",
        "A"
      ]
    },
    {
      "cell_type": "code",
      "execution_count": 29,
      "metadata": {
        "id": "M-eiaodXu_kX",
        "outputId": "4cfc8982-236c-450c-e43d-7cb64ead2014"
      },
      "outputs": [
        {
          "data": {
            "text/latex": [
              "$\\displaystyle \\left[\\begin{matrix}a_{11} & a_{21}\\\\a_{12} & a_{22}\\\\a_{13} & a_{23}\\end{matrix}\\right]$"
            ],
            "text/plain": [
              "⎡a₁₁  a₂₁⎤\n",
              "⎢        ⎥\n",
              "⎢a₁₂  a₂₂⎥\n",
              "⎢        ⎥\n",
              "⎣a₁₃  a₂₃⎦"
            ]
          },
          "execution_count": 29,
          "metadata": {},
          "output_type": "execute_result"
        }
      ],
      "source": [
        "A.T"
      ]
    },
    {
      "cell_type": "markdown",
      "metadata": {
        "id": "OcAZ_Kl1u_kY"
      },
      "source": [
        "### Nhân ma trận với vector"
      ]
    },
    {
      "cell_type": "markdown",
      "metadata": {
        "id": "T-2I6rmLu_kY"
      },
      "source": [
        "Cho ma trận $A \\in \\mathbb{R}^{m \\times n}$ và vector cột $\\boldsymbol{v} \\in \\mathbb{R}^{n \\times 1}$, phép nhân\n",
        "$$\n",
        "A\\boldsymbol{v} =\n",
        "\\begin{bmatrix}\n",
        "  a_{11} & a_{12} & \\cdots & a_{1n} \\\\\n",
        "  a_{21} & a_{22} & \\cdots & a_{2n} \\\\\n",
        "  \\vdots  & \\vdots  & \\ddots & \\vdots  \\\\\n",
        "  a_{m1} & a_{m2} & \\cdots & a_{mn}\n",
        "\\end{bmatrix}\n",
        "\\begin{bmatrix}\n",
        "  v_1 \\\\ v_2 \\\\ \\vdots \\\\ v_n\n",
        "\\end{bmatrix} =\n",
        "\\begin{bmatrix}\n",
        "  a_{11}v_1 + a_{12}v_2 + ... + a_{1n}v_n \\\\\n",
        "  a_{21}v_1 + a_{22}v_2 + ... + a_{2n}v_n \\\\ \\vdots \\\\\n",
        "  a_{m1}v_1 + a_{m2}v_2 + ... + a_{mn}v_n \\\\\n",
        "\\end{bmatrix}\n",
        "$$\n",
        "có thể được định nghĩa như là tích vô hướng các vector dòng của $A$ với $\\boldsymbol{v}$\n",
        "$$\n",
        "A\\boldsymbol{v} =\n",
        "\\begin{bmatrix}\n",
        "  \\langle \\boldsymbol{a}_{1,}, \\boldsymbol{v} \\rangle \\\\\n",
        "  \\langle \\boldsymbol{a}_{2,}, \\boldsymbol{v} \\rangle \\\\ \\vdots \\\\\n",
        "  \\langle \\boldsymbol{a}_{m,}, \\boldsymbol{v} \\rangle\n",
        "\\end{bmatrix},\n",
        "$$\n",
        "hay có thể được định nghĩa như là tổ hợp tuyến tính các vector cột của $A$ với các hệ số trong $\\boldsymbol{v}$\n",
        "$$\n",
        "A\\boldsymbol{v} =\n",
        "v_1\\begin{bmatrix}\n",
        "  a_{11} \\\\ a_{21} \\\\ \\vdots \\\\ a_{m1}\n",
        "\\end{bmatrix} +\n",
        "v_2\\begin{bmatrix}\n",
        "  a_{12} \\\\ a_{22} \\\\ \\vdots \\\\ a_{m2}\n",
        "\\end{bmatrix} + ... +\n",
        "v_n\\begin{bmatrix}\n",
        "  a_{1n} \\\\ a_{2n} \\\\ \\vdots \\\\ a_{mn}\n",
        "\\end{bmatrix} =\n",
        "v_1\\boldsymbol{a}_{,1} + v_2\\boldsymbol{a}_{,2} + ... + v_n\\boldsymbol{a}_{,n}.\n",
        "$$"
      ]
    },
    {
      "cell_type": "markdown",
      "metadata": {
        "id": "QvGQFBqbu_kY"
      },
      "source": [
        "#### List"
      ]
    },
    {
      "cell_type": "code",
      "execution_count": 30,
      "metadata": {
        "id": "bRagAg4Mu_kY"
      },
      "outputs": [],
      "source": [
        "# The inner product of a row vector and a vector v\n",
        "def mul_matrix_vector(A, v):\n",
        "    return [calc_inner_product(ai, v) for ai in A]\n",
        "\n",
        "# The linear combination of a column vector and a vector v\n",
        "def mul_matrix_vector2(A, v):\n",
        "    w = [0 for _ in range(len(v))]\n",
        "    for j in range(len(v)):\n",
        "        w = add_vector(w, mul_scalar_vector(v[j], [ai[j] for ai in A]))\n",
        "    return w"
      ]
    },
    {
      "cell_type": "code",
      "execution_count": 31,
      "metadata": {
        "id": "merYqsYwu_kY",
        "outputId": "56a8021d-b077-4c0f-da63-23120b3e3aed"
      },
      "outputs": [
        {
          "name": "stdout",
          "output_type": "stream",
          "text": [
            "Matrix A: \n",
            "[[1 2 3]\n",
            " [4 5 6]]\n",
            "Vector v: \n",
            "[1 1 1]\n",
            "Matrix-vector product Av, where A's rows are dot-producted with vector v\n",
            "[6, 15]\n",
            "Matrix-vector product Av, where A's columns are linearly combined with the corresponding coefficients from vector v\n",
            "[6, 15]\n"
          ]
        }
      ],
      "source": [
        "A = [[1, 2, 3], [4, 5, 6]]\n",
        "v = [1, 1, 1]\n",
        "\n",
        "print('Matrix A: ')\n",
        "myprint(A)\n",
        "print('Vector v: ')\n",
        "myprint(v)\n",
        "\n",
        "print('Matrix-vector product Av, where A\\'s rows are dot-producted with vector v')\n",
        "print(mul_matrix_vector(A, v))\n",
        "\n",
        "print('Matrix-vector product Av, where A\\'s columns are linearly combined with the corresponding coefficients from vector v')\n",
        "print(mul_matrix_vector2(A, v))"
      ]
    },
    {
      "cell_type": "markdown",
      "metadata": {
        "id": "pfPdrJ6ru_kY"
      },
      "source": [
        "#### NumPy"
      ]
    },
    {
      "cell_type": "code",
      "execution_count": 32,
      "metadata": {
        "id": "IjqxLT3Xu_kZ",
        "outputId": "fff4a036-db21-41cd-c945-0049549e3eb3",
        "scrolled": true
      },
      "outputs": [
        {
          "name": "stdout",
          "output_type": "stream",
          "text": [
            "Matrix A: \n",
            "[[1 2 3]\n",
            " [4 5 6]]\n",
            "Vector v: \n",
            "[1 1 1]\n",
            "Av:  [ 6 15]\n"
          ]
        }
      ],
      "source": [
        "A = np.array(A)\n",
        "v = np.array(v)\n",
        "\n",
        "print('Matrix A: ')\n",
        "print(A)\n",
        "print('Vector v: ')\n",
        "print(v)\n",
        "\n",
        "print('Av: ', np.matmul(A, v)) # NOTE: NOT A * v"
      ]
    },
    {
      "cell_type": "markdown",
      "metadata": {
        "id": "17bjuWCwu_kZ"
      },
      "source": [
        "#### SymPy"
      ]
    },
    {
      "cell_type": "code",
      "execution_count": 33,
      "metadata": {
        "id": "xe-XCF8ku_kZ",
        "outputId": "5f97b85a-96f7-43f2-d809-f8326ae3159f",
        "scrolled": true
      },
      "outputs": [
        {
          "data": {
            "text/latex": [
              "$\\displaystyle \\left[\\begin{matrix}\\alpha_{1} + 2 \\alpha_{2} + 3 \\alpha_{3}\\\\4 \\alpha_{1} + 5 \\alpha_{2} + 6 \\alpha_{3}\\end{matrix}\\right]$"
            ],
            "text/plain": [
              "⎡ α₁ + 2⋅α₂ + 3⋅α₃ ⎤\n",
              "⎢                  ⎥\n",
              "⎣4⋅α₁ + 5⋅α₂ + 6⋅α₃⎦"
            ]
          },
          "execution_count": 33,
          "metadata": {},
          "output_type": "execute_result"
        }
      ],
      "source": [
        "A = Matrix(A)\n",
        "v = Matrix(sympy.symbols(\"alpha_1 alpha_2 alpha_3\"))\n",
        "\n",
        "A * v"
      ]
    },
    {
      "cell_type": "markdown",
      "metadata": {
        "id": "ORzfqV4hu_kZ"
      },
      "source": [
        "### Biến đổi sơ cấp trên dòng"
      ]
    },
    {
      "cell_type": "markdown",
      "metadata": {
        "id": "tSBdFzB6u_kZ"
      },
      "source": [
        "3 loại biến đổi sau trên một ma trận được gọi là **phép biến đổi sơ cấp trên dòng** (elementary row operation):\n",
        "\n",
        "- **Loại 1.** (Row switching) Đổi hai dòng cho nhau,\n",
        "\n",
        "- **Loại 2.** (Row multiplication) Nhân một dòng với một số khác 0,\n",
        "\n",
        "- **Loại 3.** (Row addition) Cộng vào một dòng một bội số của dòng khác.\n",
        "\n",
        "\n",
        "Cho $A, B \\in \\mathbb{R}^{m \\times n}$, ta nói $A, B$ **tương đương dòng** (row equivalent) với nhau nếu $B$ có được từ $A$ (hay ngược lại, $A$ có được từ $B$) qua hữu hạn phép biến đổi sơ cấp trên dòng.\n",
        "\n",
        "\n",
        "Một ma trận được nói là có **dạng bậc thang theo dòng** (row echelon form) nếu:\n",
        "\n",
        "- Các dòng khác $\\boldsymbol{0}$ luôn nằm trên các dòng $\\boldsymbol{0}$ (nếu có),\n",
        "\n",
        "- Trên 2 dòng khác $\\boldsymbol{0}$, hệ số khác 0 đầu tiên của dòng dưới luôn nằm bên phải cột chứa hệ số khác 0 đầu tiên của dòng trên."
      ]
    },
    {
      "cell_type": "markdown",
      "metadata": {
        "id": "hvxIzuF6u_kZ"
      },
      "source": [
        "#### List"
      ]
    },
    {
      "cell_type": "code",
      "execution_count": 34,
      "metadata": {
        "id": "WpJ6jhreu_kZ"
      },
      "outputs": [],
      "source": [
        "def row_switch(A, i, k):\n",
        "    'di <-> dk'\n",
        "    A[i], A[k] = A[k], A[i]\n",
        "\n",
        "def row_mul(A, i, alpha):\n",
        "    'di = anpha*di'\n",
        "    A[i] = mul_scalar_vector(alpha, A[i])\n",
        "\n",
        "def row_add(A, i, k, alpha):\n",
        "    'di = di + anpha*dk'\n",
        "    A[i] = add_vector(A[i], mul_scalar_vector(alpha, A[k]))\n",
        "\n",
        "def is_echelon(A): # Check if a matrix is echelon\n",
        "    num_row, num_col = len(A) , len(A[0])\n",
        "    prev_pivot_col = -1 \n",
        "\n",
        "    for i in range(num_row):\n",
        "        found_pivot = False  \n",
        "        for j in range(num_col):\n",
        "            if not is_zero(A[i][j]):\n",
        "                if j <= prev_pivot_col:\n",
        "                    return False\n",
        "                for k in range(i+1,num_row):\n",
        "                    if not is_zero(A[k][j]):\n",
        "                        return False\n",
        "                prev_pivot_col = j\n",
        "                found_pivot = True\n",
        "                break\n",
        "            \n",
        "        if not found_pivot:\n",
        "            for k in range(j + 1, num_col):\n",
        "                if not is_zero(A[i][k]):\n",
        "                    return False  \n",
        "    return True  \n"
      ]
    },
    {
      "cell_type": "code",
      "execution_count": 35,
      "metadata": {
        "id": "YDa7Xeauu_ka",
        "outputId": "7524615a-a2a9-4c15-ea43-5c9dd4ea2e6d",
        "scrolled": true
      },
      "outputs": [
        {
          "name": "stdout",
          "output_type": "stream",
          "text": [
            "Original matrix:\n",
            "[[1 2 3]\n",
            " [4 5 6]]\n",
            "\n",
            "Update 0th row: d0 = 4d0\n",
            "[[4 8 12]\n",
            " [4 5  6]]\n",
            "\n",
            "Switch 0th and 1st rows: d0 <-> d1\n",
            "[[4 5  6]\n",
            " [4 8 12]]\n",
            "\n",
            "Update 1st row: d1 = d1 - d0\n",
            "[[4 5 6]\n",
            " [0 3 6]]\n"
          ]
        }
      ],
      "source": [
        "A = [[1, 2, 3],\n",
        "     [4, 5, 6]]\n",
        "\n",
        "print('Original matrix:')\n",
        "myprint(A)\n",
        "\n",
        "print('\\nUpdate 0th row: d0 = 4d0')\n",
        "row_mul(A, 0, 4)     # d0 = 4d0\n",
        "myprint(A)\n",
        "\n",
        "print('\\nSwitch 0th and 1st rows: d0 <-> d1')\n",
        "row_switch(A, 0, 1)  # d0 <-> d1\n",
        "myprint(A)\n",
        "\n",
        "print('\\nUpdate 1st row: d1 = d1 - d0')\n",
        "row_add(A, 1, 0, -1) # d1 = d1 - d0\n",
        "myprint(A)"
      ]
    },
    {
      "cell_type": "markdown",
      "metadata": {
        "id": "TRNnS7HZu_ka"
      },
      "source": [
        "#### SymPy"
      ]
    },
    {
      "cell_type": "code",
      "execution_count": 36,
      "metadata": {
        "id": "IqDPVUjvu_ka",
        "outputId": "a187a53f-b118-402d-f1e6-35bc4a548162"
      },
      "outputs": [
        {
          "name": "stdout",
          "output_type": "stream",
          "text": [
            "True\n"
          ]
        }
      ],
      "source": [
        "A = Matrix(A)\n",
        "\n",
        "print(A.is_echelon)"
      ]
    },
    {
      "cell_type": "code",
      "execution_count": 37,
      "metadata": {
        "id": "e4E5-ZVru_ka",
        "outputId": "dacaf8aa-422d-468e-ffe2-1b72b6e17647"
      },
      "outputs": [],
      "source": [
        "A = A.elementary_row_op('n->n+km', row=1, row2=0, k=1)     # d1 = d1 + d0\n",
        "A = A.elementary_row_op('n<->m', row1=1, row2=0)           # d1 <-> d0\n",
        "A = A.elementary_row_op('n->kn', row=0, k=Fraction('1/4')) # d0 = d0/4\n"
      ]
    },
    {
      "cell_type": "markdown",
      "metadata": {
        "id": "s7nC1elgu_ka"
      },
      "source": [
        "## Hệ PTTT và Phép khử Gauss <a class=\"anchor\" id=\"c5\"></a>"
      ]
    },
    {
      "cell_type": "markdown",
      "metadata": {
        "id": "T6Rfp3ymu_ka"
      },
      "source": [
        "### Các khái niệm cơ bản"
      ]
    },
    {
      "cell_type": "markdown",
      "metadata": {
        "id": "k_hlagtzu_kb"
      },
      "source": [
        "**Hệ PTTT** (system of linear equations, linear system) gồm $m$ phương trình theo $n$ ẩn số $x_1, x_2, ..., x_n$ là hệ có dạng\n",
        "$$\n",
        "\\begin{matrix}\n",
        "  a_{11}x_1 + a_{12}x_2 + ... + a_{1n}x_n = b_1 \\\\\n",
        "  a_{21}x_1 + a_{22}x_2 + ... + a_{2n}x_n = b_2 \\\\\n",
        "  \\vdots \\\\\n",
        "  a_{m1}x_1 + a_{m2}x_2 + ... + a_{mn}x_n = b_m \\\\\n",
        "\\end{matrix}.\n",
        "$$"
      ]
    },
    {
      "cell_type": "markdown",
      "metadata": {
        "id": "WvPPnS1uu_kb"
      },
      "source": [
        "Hệ PTTT trên có thể được viết lại dưới dạng ma trận\n",
        "$$ A\\boldsymbol{x} = \\boldsymbol{b} $$\n",
        "với $A \\in \\mathbb{R}^{m \\times n}$ là **ma trận các hệ số** (coefficient matrix)\n",
        "$$\n",
        "A =\n",
        "\\begin{bmatrix}\n",
        "  a_{11} & a_{12} & \\cdots & a_{1n} \\\\\n",
        "  a_{21} & a_{22} & \\cdots & a_{2n} \\\\\n",
        "  \\vdots  & \\vdots  & \\ddots & \\vdots  \\\\\n",
        "  a_{m1} & a_{m2} & \\cdots & a_{mn}\n",
        "\\end{bmatrix},\n",
        "$$\n",
        "$\\boldsymbol{x}$ là vector cột các **ẩn** (unknown) và $\\boldsymbol{b}$ là vector cột các **hệ số vế phải** (right-hand side)\n",
        "$$\n",
        "\\boldsymbol{x} =\n",
        "\\begin{bmatrix}\n",
        "  x_{1} \\\\ x_{2} \\\\ \\vdots \\\\ x_{n}\n",
        "\\end{bmatrix},\n",
        "\\boldsymbol{b} =\n",
        "\\begin{bmatrix}\n",
        "  b_{1} \\\\ b_{2} \\\\ \\vdots \\\\ b_{n}\n",
        "\\end{bmatrix}.\n",
        "$$"
      ]
    },
    {
      "cell_type": "markdown",
      "metadata": {
        "id": "vRzhSWcOu_kb"
      },
      "source": [
        "Trường hợp $\\boldsymbol{b} = \\boldsymbol{0}$, hệ thường được gọi là hệ **thuần nhất** (homogeneous)."
      ]
    },
    {
      "cell_type": "markdown",
      "metadata": {
        "id": "wW6QtyCku_kb"
      },
      "source": [
        "Với $A \\in \\mathbb{R}^{m \\times n}, \\boldsymbol{b} \\in \\mathbb{R}^{m \\times 1}$ cho trước, ta nói $\\boldsymbol{s} \\in \\mathbb{R}^{m \\times 1}$ là vector **nghiệm** (solution) của hệ $A\\boldsymbol{x} = \\boldsymbol{b}$ nếu $A\\boldsymbol{s} = \\boldsymbol{b}$."
      ]
    },
    {
      "cell_type": "code",
      "execution_count": 38,
      "metadata": {
        "id": "Os5gZ9peu_kb",
        "outputId": "6ab6b7e7-59de-4147-ed33-1f648199c014"
      },
      "outputs": [
        {
          "name": "stdout",
          "output_type": "stream",
          "text": [
            "[1 6]\n",
            "Is Ax == b?:  True\n"
          ]
        }
      ],
      "source": [
        "A = [[1, -1],\n",
        "     [2, 1]]\n",
        "b = [1, 6]\n",
        "\n",
        "x = to_fraction(['7/3', '4/3'])\n",
        "\n",
        "Ax = mul_matrix_vector(A, x)\n",
        "myprint(Ax)\n",
        "\n",
        "print('Is Ax == b?: ', equal_vector(Ax, b))"
      ]
    },
    {
      "cell_type": "markdown",
      "metadata": {
        "id": "mO_gYEuzu_kb"
      },
      "source": [
        "### Giải hệ PTTT"
      ]
    },
    {
      "cell_type": "markdown",
      "metadata": {
        "id": "JQpScLw6u_kb"
      },
      "source": [
        "Hệ PTTT $A\\boldsymbol{x} = \\boldsymbol{b}$ thường được giải bằng các bước:\n",
        "\n",
        "> **Bước 1.** Lập **ma trận bổ sung** (augmented matrix) bằng cách ghép cột $\\boldsymbol{b}$ sau ma trận $A$: $\\bar{A} = \\left[ A | \\boldsymbol{b} \\right]$.\n",
        "\n",
        "> **Bước 2.** Dùng các phép biến đổi sơ cấp trên dòng để biến đổi $\\bar{A}$ thành ma trận tương đương dòng có dạng bậc thang $R$.\n",
        "\n",
        "> **Bước 3.** Giải $R$ bằng **phép thế ngược** (back-substitution) để có nghiệm."
      ]
    },
    {
      "cell_type": "markdown",
      "metadata": {
        "id": "2xBCTh-Lu_kc"
      },
      "source": [
        "***Mệnh đề.*** Nếu $\\bar{A}, \\bar{B}$ tương đương dòng thì các hệ PTTT tương ứng với ma trận bổ sung $\\bar{A}, \\bar{B}$ có cùng tập nghiệm."
      ]
    },
    {
      "cell_type": "markdown",
      "metadata": {
        "id": "0rW_vgHcu_kc"
      },
      "source": [
        "#### Bước 1: Lập ma trận bổ sung"
      ]
    },
    {
      "cell_type": "code",
      "execution_count": 39,
      "metadata": {
        "id": "Nx1HfbgTu_kc",
        "outputId": "06eac4b9-4238-4a83-efd7-b971c93a3e1a"
      },
      "outputs": [
        {
          "name": "stdout",
          "output_type": "stream",
          "text": [
            "[[1 -1 1]\n",
            " [2  1 6]]\n"
          ]
        }
      ],
      "source": [
        "def augmented_matrix(A, b):\n",
        "    'Create the augmented matrix [A|b]'\n",
        "    return [ai + [bi] for ai, bi in zip(A, b)] # Quick question: What does this code mean: ai + [bi]?\n",
        "\n",
        "A_bar = augmented_matrix(A, b)\n",
        "\n",
        "myprint(A_bar)"
      ]
    },
    {
      "cell_type": "markdown",
      "metadata": {
        "id": "MhI5RyX4u_kc"
      },
      "source": [
        "#### Bước 2: Tạo ma trận bậc thang - Sử dụng phép khử Gauss"
      ]
    },
    {
      "cell_type": "markdown",
      "metadata": {
        "id": "kJRbC8k5u_kc"
      },
      "source": [
        "**Khử Gauss** (Gaussian elimination) là một cách biến đổi tương đương dòng đưa ma trận về dạng bậc thang. Thuật giải gồm các bước:\n",
        "\n",
        "> **Bước 1.** Xác định cột trái nhất không chứa toàn số 0.\n",
        "\n",
        "> **Bước 2.** Đổi chỗ hai dòng, nếu cần thiết, để đưa số hạng khác 0 nào đó ở dưới về đầu cột nhận được ở Bước 1.   \n",
        "(*Đơn giản nhất, có thể chọn dòng đầu tiên có số hạng khác 0. Phức tạp hơn, chiến lược \"partial pivoting\" chọn dòng có số hạng có trị tuyệt đối lớn nhất.*)\n",
        "\n",
        "> **Bước 3.** Với số hạng đầu cột nhận được từ Bước 2 là $a \\neq 0$, nhân dòng chứa nó với $\\frac{1}{a}$ để có **số dẫn đầu** 1 (leading 1).  \n",
        "(*Bước này tùy chọn*.)\n",
        "\n",
        "> **Bước 4.** Cộng một bội số thích hợp của dòng đầu cho từng dòng dưới để biến các số hạng bên dưới số dẫn đầu thành 0.\n",
        "\n",
        "> **Bước 5.** Che dòng đầu đã làm xong. Lặp lại các bước cho đến khi được ma trận bậc thang."
      ]
    },
    {
      "cell_type": "code",
      "execution_count": 40,
      "metadata": {
        "id": "DoaCcjSou_kc"
      },
      "outputs": [],
      "source": [
        "def Gauss_elimination(A, leading1):\n",
        "    # WRITE YOUR CODE HERE\n",
        "    m, n =len(A), len(A[0])\n",
        "\n",
        "    #Step1: Check if the leftmost column contains all zeros\n",
        "    def is_column_zero(col_index):\n",
        "        i = col_index\n",
        "        for i in range(m):\n",
        "            if not is_zero(A[i][col_index]):\n",
        "                return False\n",
        "        return True\n",
        "\n",
        "    def is_sub_column_zero(col_index, row_index):\n",
        "        for i in range(row_index, m):\n",
        "            if A[i][col_index] !=0:\n",
        "                return False\n",
        "        return True\n",
        "        \n",
        "    #Step2: Swap rows if it !=0;\n",
        "    def swap_rows(row_index):\n",
        "        for i in range (row_index + 1,m):\n",
        "            if not is_zero(A[i][row_index]) and is_one(A[i][row_index]):\n",
        "                temp = A[row_index]\n",
        "                A[row_index] = A[i]\n",
        "                A[i] = temp\n",
        "                break\n",
        "\n",
        "    def swap_rows_3(row_index, col_index):\n",
        "        best_row = row_index\n",
        "        best_col = n  \n",
        "\n",
        "        for i in range(row_index + 1, m):\n",
        "            for j in range(col_index, n):\n",
        "                if not is_zero(A[i][j]) and j < best_col:\n",
        "                    best_row = i\n",
        "                    best_col = j\n",
        "                    break\n",
        "\n",
        "        if best_row != row_index:\n",
        "            temp_row = A[row_index]\n",
        "            A[row_index] = A[best_row]\n",
        "            A[best_row] = temp_row\n",
        "                \n",
        "    #Step3: Make leading 1:\n",
        "    def make_leading_one(row_index, col_index=None):\n",
        "        if col_index is None:\n",
        "            col_index = row_index\n",
        "        leading_coefficient = A[row_index][col_index]\n",
        "        if leading_coefficient != 0 and not is_one(leading_coefficient):\n",
        "            scale_factor = 1 / leading_coefficient\n",
        "            A[row_index] = [element * scale_factor for element in A[row_index]]\n",
        "\n",
        "    #Step4: Make elements below leading term zero\n",
        "    def eliminate_below(row_index, col_index=None):\n",
        "        if col_index is None:\n",
        "            col_index = row_index\n",
        "        for i in range(row_index + 1, m):\n",
        "            if not is_zero(A[row_index][col_index]):\n",
        "                factor = A[i][col_index] / A[row_index][col_index]\n",
        "                A[i] = [A[i][j] - factor * A[row_index][j] for j in range(n)]\n",
        "\n",
        "    #step5: Main loop for Gauss Elimination\n",
        "    for i in range(min(m, n)):\n",
        "        if not is_column_zero(i) and not is_sub_column_zero(i,i):\n",
        "            swap_rows(i)\n",
        "            if leading1:\n",
        "                make_leading_one(i)\n",
        "            eliminate_below(i)\n",
        "        elif is_sub_column_zero(i,i) :\n",
        "            if i+1<n and not is_sub_column_zero(i+1,i):\n",
        "                swap_rows(i - 1)\n",
        "                if leading1:\n",
        "                    make_leading_one(i, i+1)\n",
        "                eliminate_below(i, i+1)\n",
        "            elif i+1<n and is_sub_column_zero(i+1,i):\n",
        "                next_column = i + 1\n",
        "                while next_column<n and is_sub_column_zero(next_column, i) :\n",
        "                    next_column += 1\n",
        "\n",
        "                if i+next_column-2<n:\n",
        "                    swap_rows_3(i,i+next_column-2)\n",
        "                    if leading1:\n",
        "                        make_leading_one(i, i+next_column-2)\n",
        "                    eliminate_below(i, i+next_column-2)\n",
        "\n",
        "    return A"
      ]
    },
    {
      "cell_type": "code",
      "execution_count": 41,
      "metadata": {
        "id": "VM0WXMOHu_kc",
        "outputId": "ff02b92f-7135-4263-ce07-9a38969eda97"
      },
      "outputs": [
        {
          "name": "stdout",
          "output_type": "stream",
          "text": [
            "Matrix before transforming into row echelon form (REF):\n",
            "[[1 3 -2  0 2  0 0]\n",
            " [2 6 -5 -2 4 -3 0]\n",
            " [0 0  5 10 0 15 0]\n",
            " [2 6  0  8 4 18 0]]\n",
            "\n",
            "Matrix after transforming into REF (with leading 1):\n",
            "[[1 3 -2 0 2 0 0]\n",
            " [0 0  1 2 0 3 0]\n",
            " [0 0  0 0 0 1 0]\n",
            " [0 0  0 0 0 0 0]]\n",
            "\n",
            "Matrix after transforming into REF (without leading 1):\n",
            "[[1 3 -2  0 2  0 0]\n",
            " [0 0 -1 -2 0 -3 0]\n",
            " [0 0  0  0 0  6 0]\n",
            " [0 0  0  0 0  0 0]]\n"
          ]
        }
      ],
      "source": [
        "A = [[1, 3, -2,  0, 2,  0, 0],\n",
        "     [2, 6, -5, -2, 4, -3, 0],\n",
        "     [0, 0,  5, 10, 0, 15, 0],\n",
        "     [2, 6,  0,  8, 4, 18, 0]]\n",
        "\n",
        "print('Matrix before transforming into row echelon form (REF):')\n",
        "myprint(A)\n",
        "\n",
        "print('\\nMatrix after transforming into REF (with leading 1):')\n",
        "myprint(Gauss_elimination(to_fraction(A), True))\n",
        "\n",
        "print('\\nMatrix after transforming into REF (without leading 1):')\n",
        "myprint(Gauss_elimination(to_fraction(A), False))\n"
      ]
    },
    {
      "cell_type": "markdown",
      "metadata": {
        "id": "Pt_6W070u_kd"
      },
      "source": [
        "#### Bước 3: Phép thế ngược"
      ]
    },
    {
      "cell_type": "code",
      "execution_count": 42,
      "metadata": {
        "id": "_kqgGecmu_kd"
      },
      "outputs": [],
      "source": [
        "def back_substitution(R):\n",
        "    \n",
        "    # Function to count the number of zero vectors needed\n",
        "    def count_zero_vectors_needed(R):\n",
        "        num_rows = len(R)\n",
        "        num_cols = len(R[0])\n",
        "        return max(0, num_cols - 1 - num_rows)\n",
        "    \n",
        "    # Function to add zero vectors if needed\n",
        "    def add_zero_vectors(R):\n",
        "        num_cols = len(R[0])\n",
        "        num_zero_vectors_needed = count_zero_vectors_needed(R)\n",
        "        \n",
        "        if num_zero_vectors_needed == 0:\n",
        "            return R\n",
        "        \n",
        "        # Add zero vectors\n",
        "        R2 = [row[:] for row in R]  # Copy R to R2\n",
        "        for _ in range(num_zero_vectors_needed):\n",
        "            zero_vector = [0] * num_cols\n",
        "            R2.append(zero_vector)\n",
        "        \n",
        "        return R2\n",
        "    \n",
        "    # Count zero vectors needed and add them if necessary\n",
        "    R = add_zero_vectors(R)\n",
        "    m, n = len(R), len(R[0])\n",
        "    solutions = [None] * (n - 1)\n",
        "\n",
        "    for i in range(m - 1, -1, -1):\n",
        "        row = R[i]\n",
        "        \n",
        "        # Check if the row has all zeroes except the last element\n",
        "        if all(is_zero(row[j]) for j in range(n - 1)):\n",
        "            if not is_zero(row[-1]):\n",
        "                return \"No solution.\"\n",
        "            # Assign free variable\n",
        "            free_var = None\n",
        "            for j in range(n - 1):\n",
        "                if solutions[j] is None:\n",
        "                    free_var = j\n",
        "                    break\n",
        "            if free_var is not None:\n",
        "                solutions[free_var] = f\"x{free_var + 1}\"\n",
        "        \n",
        "        # Find the pivot column\n",
        "        pivot_col = None\n",
        "        for j in range(n - 1):\n",
        "            if not is_zero(row[j]):\n",
        "                pivot_col = j\n",
        "                break\n",
        "        \n",
        "        if pivot_col is not None:\n",
        "            rhs = row[-1]\n",
        "            equation = []\n",
        "            for j in range(pivot_col + 1, n - 1):\n",
        "                if not is_zero(row[j]):\n",
        "                    if solutions[j] is not None:\n",
        "                        if isinstance(solutions[j], (int, float, Fraction)):\n",
        "                            rhs -= row[j] * solutions[j]\n",
        "                        else:\n",
        "                            equation.append(f\"({-row[j]})*{solutions[j]}\")\n",
        "                    else:\n",
        "                        equation.append(f\"({-row[j]})*x{j+1}\")\n",
        "            if equation:\n",
        "                equation_str = \" - \".join(equation)\n",
        "                solutions[pivot_col] = f\"{rhs} - {equation_str}\"\n",
        "            else:\n",
        "                solutions[pivot_col] = rhs / row[pivot_col]\n",
        "        else:\n",
        "            free_var = None\n",
        "            for j in range(n - 1):\n",
        "                if solutions[j] is None:\n",
        "                    free_var = j\n",
        "                    break\n",
        "            if free_var is not None:\n",
        "                solutions[free_var] = f\"x{free_var + 1}\"\n",
        "\n",
        "    # Convert solutions to string\n",
        "    def clean_solution(sol):\n",
        "        if isinstance(sol, str):\n",
        "            terms = sol.split(\" - \")\n",
        "            cleaned_terms = [term for term in terms if not any(is_zero(float(f)) for f in term.split('*') if f.replace('.', '', 1).isdigit())]\n",
        "            return \" - \".join(cleaned_terms)\n",
        "        return str(sol)\n",
        "\n",
        "    solutions_str = [clean_solution(sol) if sol is not None else \"0\" for sol in solutions]\n",
        "    \n",
        "    return solutions_str"
      ]
    },
    {
      "cell_type": "code",
      "execution_count": 43,
      "metadata": {
        "id": "sL-owmspu_kd",
        "outputId": "a4d9594d-9ec8-4df2-e7a4-d45ec35469c8"
      },
      "outputs": [
        {
          "name": "stdout",
          "output_type": "stream",
          "text": [
            "Solution:\n",
            "(-3)*x2 - (-2)*x4 - (-2)*x5, x2, (-2)*x4, x4, x5, 0\n"
          ]
        }
      ],
      "source": [
        "A = [[1, 3, -2,  0, 2,  0, 0],\n",
        "     [2, 6, -5, -2, 4, -3, 0],\n",
        "     [0, 0,  5, 10, 0, 15, 0],\n",
        "     [2, 6,  0,  8, 4, 18, 0]]\n",
        "\n",
        "solutions = back_substitution(Gauss_elimination(to_fraction(A), True))\n",
        "print(f\"Solution:\")\n",
        "print(\", \".join(solutions))"
      ]
    },
    {
      "cell_type": "markdown",
      "metadata": {},
      "source": [
        "#### Quy định bài nộp\n",
        "> Thực hiện toàn bộ bài làm trên 1 tập tin Jupiter Notebook (.ipynb) hoặc Python (.py)\n",
        "\n",
        "> Nộp tập tin dưới dạng MSSV.zip được nén từ thư mục MSSV chứa các tập tin sau:\n",
        "\n",
        "- Báo cáo toàn bộ bài làm: MSSV.pdf\n",
        "\n",
        "- Mã nguồn: MSSV.ipynb hoặc MSSV.py\n",
        "\n",
        "> Trong đó, nội dung tập tin báo cáo gồm có:\n",
        "\n",
        "- Thông tin cá nhân: họ và tên, MSSV\n",
        "\n",
        "- Ý tưởng thực hiện, mô tả các hàm\n",
        "\n",
        "\n"
      ]
    },
    {
      "cell_type": "markdown",
      "metadata": {},
      "source": [
        "#### Quy định chấm bài\n",
        "\n",
        "Những trường hợp sau đây sẽ bị 0 điểm toàn bộ đồ án:\n",
        "\n",
        "- Nộp sai quy định\n",
        "\n",
        "- Không có báo cáo\n",
        "\n",
        "- Thực thi mã nguồn báo lỗi\n",
        "\n",
        "**Lưu ý: Sao chép bài làm của nhau sẽ bị 0 điểm toàn bộ phần thực hành **"
      ]
    }
  ],
  "metadata": {
    "colab": {
      "provenance": []
    },
    "interpreter": {
      "hash": "15af99fd1a1a3f0a3416ea421564e792a8676a13670c2eed127d89ab0518a27b"
    },
    "kernelspec": {
      "display_name": "Python 3 (ipykernel)",
      "language": "python",
      "name": "python3"
    },
    "language_info": {
      "codemirror_mode": {
        "name": "ipython",
        "version": 3
      },
      "file_extension": ".py",
      "mimetype": "text/x-python",
      "name": "python",
      "nbconvert_exporter": "python",
      "pygments_lexer": "ipython3",
      "version": "3.11.9"
    },
    "toc": {
      "base_numbering": 1,
      "nav_menu": {},
      "number_sections": true,
      "sideBar": true,
      "skip_h1_title": false,
      "title_cell": "Table of Contents",
      "title_sidebar": "Contents",
      "toc_cell": false,
      "toc_position": {},
      "toc_section_display": true,
      "toc_window_display": false
    }
  },
  "nbformat": 4,
  "nbformat_minor": 0
}
